{
 "cells": [
  {
   "cell_type": "markdown",
   "id": "dd0a011c-e326-4b2b-8752-e6777ab47d70",
   "metadata": {},
   "source": [
    "# Basic examples of Variables"
   ]
  },
  {
   "cell_type": "code",
   "execution_count": 1,
   "id": "88a3339c-8be1-4a68-9973-35c16548ad54",
   "metadata": {},
   "outputs": [],
   "source": [
    "x = 5"
   ]
  },
  {
   "cell_type": "code",
   "execution_count": 2,
   "id": "a8608c2b-595e-4398-bcaa-e8025c6f103c",
   "metadata": {},
   "outputs": [
    {
     "name": "stdout",
     "output_type": "stream",
     "text": [
      "5\n"
     ]
    }
   ],
   "source": [
    "print(x)"
   ]
  },
  {
   "cell_type": "code",
   "execution_count": 5,
   "id": "0f9d4883-52ea-4df5-90dc-613405e0d4ef",
   "metadata": {},
   "outputs": [],
   "source": [
    "name = \"Alice\""
   ]
  },
  {
   "cell_type": "code",
   "execution_count": 6,
   "id": "1dbb3dcb-7136-4635-a284-7099fd46baa5",
   "metadata": {},
   "outputs": [
    {
     "name": "stdout",
     "output_type": "stream",
     "text": [
      "Alice\n"
     ]
    }
   ],
   "source": [
    "print(name)"
   ]
  },
  {
   "cell_type": "code",
   "execution_count": 7,
   "id": "2433c92b-6aaa-445e-ba7b-160067c0bf1f",
   "metadata": {},
   "outputs": [],
   "source": [
    "pi = 3.14159"
   ]
  },
  {
   "cell_type": "code",
   "execution_count": 8,
   "id": "e096878c-ce50-4582-8f61-d49f02f3b1fe",
   "metadata": {},
   "outputs": [
    {
     "name": "stdout",
     "output_type": "stream",
     "text": [
      "3.14159\n"
     ]
    }
   ],
   "source": [
    "print(pi)"
   ]
  },
  {
   "cell_type": "markdown",
   "id": "15ee81c8-b77f-4bdc-86b6-5464f651eb84",
   "metadata": {},
   "source": [
    "# Storing a DNA Sequence in a Variable"
   ]
  },
  {
   "cell_type": "code",
   "execution_count": 9,
   "id": "e5e76a8b-5a25-4383-b312-db99e2ee9f69",
   "metadata": {},
   "outputs": [],
   "source": [
    "gene1 = \"ATACGATGCAGTACGAGA\""
   ]
  },
  {
   "cell_type": "code",
   "execution_count": 10,
   "id": "025aaf83-b0c8-4e90-a625-77c3d6afc03d",
   "metadata": {},
   "outputs": [
    {
     "name": "stdout",
     "output_type": "stream",
     "text": [
      "ATACGATGCAGTACGAGA\n"
     ]
    }
   ],
   "source": [
    "print(gene1)"
   ]
  },
  {
   "cell_type": "markdown",
   "id": "fab94199-624a-4c85-9903-c8cd41c3659e",
   "metadata": {},
   "source": [
    "# Storing a Sample ID"
   ]
  },
  {
   "cell_type": "code",
   "execution_count": 11,
   "id": "bf7e1f1a-f8c3-40d5-b4c2-ec98ff61591e",
   "metadata": {},
   "outputs": [],
   "source": [
    "sample_id = \"SRR123456\""
   ]
  },
  {
   "cell_type": "code",
   "execution_count": 12,
   "id": "36690fc9-fab6-4dbe-9456-59ce5a444753",
   "metadata": {},
   "outputs": [
    {
     "name": "stdout",
     "output_type": "stream",
     "text": [
      "SRR123456\n"
     ]
    }
   ],
   "source": [
    "print(sample_id)"
   ]
  },
  {
   "cell_type": "markdown",
   "id": "4be8ca6d-8b9e-4798-b80a-af4ada3342db",
   "metadata": {},
   "source": [
    "# Updating the Value of a Variable"
   ]
  },
  {
   "cell_type": "code",
   "execution_count": 14,
   "id": "fa45a6d0-77da-4efb-bcb1-b30a38647b94",
   "metadata": {},
   "outputs": [
    {
     "name": "stdout",
     "output_type": "stream",
     "text": [
      "5\n"
     ]
    }
   ],
   "source": [
    "x = 5\n",
    "print(x)"
   ]
  },
  {
   "cell_type": "code",
   "execution_count": 15,
   "id": "c788acd4-bcbc-4cd0-b014-63a8f87c53c4",
   "metadata": {},
   "outputs": [
    {
     "name": "stdout",
     "output_type": "stream",
     "text": [
      "10\n"
     ]
    }
   ],
   "source": [
    "x = 10\n",
    "print(x)"
   ]
  },
  {
   "cell_type": "code",
   "execution_count": 16,
   "id": "561e42fd-950b-4a32-bb81-bb55356df965",
   "metadata": {},
   "outputs": [
    {
     "name": "stdout",
     "output_type": "stream",
     "text": [
      "AGACGATGCGATACG\n"
     ]
    }
   ],
   "source": [
    "gene1 = \"AGACGATGCGATACG\"\n",
    "print(gene1)"
   ]
  },
  {
   "cell_type": "code",
   "execution_count": 17,
   "id": "8c84deef-df2c-422c-8826-ec6d2914c582",
   "metadata": {},
   "outputs": [
    {
     "name": "stdout",
     "output_type": "stream",
     "text": [
      "AAAAATTTTT\n"
     ]
    }
   ],
   "source": [
    "gene1 = \"AAAAATTTTT\"\n",
    "print(gene1)"
   ]
  }
 ],
 "metadata": {
  "kernelspec": {
   "display_name": "Python 3 (ipykernel)",
   "language": "python",
   "name": "python3"
  },
  "language_info": {
   "codemirror_mode": {
    "name": "ipython",
    "version": 3
   },
   "file_extension": ".py",
   "mimetype": "text/x-python",
   "name": "python",
   "nbconvert_exporter": "python",
   "pygments_lexer": "ipython3",
   "version": "3.12.3"
  }
 },
 "nbformat": 4,
 "nbformat_minor": 5
}
