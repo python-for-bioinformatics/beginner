{
 "cells": [
  {
   "cell_type": "markdown",
   "id": "b8aa90a3-cac5-4882-b91c-c643de828707",
   "metadata": {},
   "source": [
    "# Defining integers in Python"
   ]
  },
  {
   "cell_type": "code",
   "execution_count": 1,
   "id": "171fd797-edc2-44b1-ac4f-98f6914fc9fc",
   "metadata": {},
   "outputs": [
    {
     "name": "stdout",
     "output_type": "stream",
     "text": [
      "152043\n"
     ]
    }
   ],
   "source": [
    "# Number of sequencing reads\n",
    "read_count = 152043\n",
    "print(read_count)"
   ]
  },
  {
   "cell_type": "code",
   "execution_count": 2,
   "id": "15ef0ea1-1b77-44d9-92ef-6792612e306d",
   "metadata": {},
   "outputs": [
    {
     "name": "stdout",
     "output_type": "stream",
     "text": [
      "897\n"
     ]
    }
   ],
   "source": [
    "# Sequence length\n",
    "seq_length = 897\n",
    "print(seq_length)"
   ]
  },
  {
   "cell_type": "code",
   "execution_count": 3,
   "id": "599654d1-e42c-44b6-97b0-d0bbad02402e",
   "metadata": {},
   "outputs": [
    {
     "name": "stdout",
     "output_type": "stream",
     "text": [
      "305\n"
     ]
    }
   ],
   "source": [
    "# Position of a mutation\n",
    "mutation_position = 305\n",
    "print(mutation_position)"
   ]
  },
  {
   "cell_type": "markdown",
   "id": "0abf16ea-5c89-4ee1-9b46-7b38f7965efc",
   "metadata": {},
   "source": [
    "# Integer operations in Bioinformatics"
   ]
  },
  {
   "cell_type": "code",
   "execution_count": 4,
   "id": "1a3a036f-cf6d-4c61-9ccf-59e6304adf5e",
   "metadata": {},
   "outputs": [
    {
     "name": "stdout",
     "output_type": "stream",
     "text": [
      "100000\n"
     ]
    }
   ],
   "source": [
    "# add two read counts\n",
    "read_count_1 = 100000\n",
    "print(read_count_1)"
   ]
  },
  {
   "cell_type": "code",
   "execution_count": 5,
   "id": "08372910-9b94-4631-8a82-a983d23f7e1f",
   "metadata": {},
   "outputs": [
    {
     "name": "stdout",
     "output_type": "stream",
     "text": [
      "52043\n"
     ]
    }
   ],
   "source": [
    "read_count_2 = 52043\n",
    "print(read_count_2)"
   ]
  },
  {
   "cell_type": "code",
   "execution_count": 6,
   "id": "68897562-2f04-4821-b19b-de1e600ec094",
   "metadata": {},
   "outputs": [
    {
     "name": "stdout",
     "output_type": "stream",
     "text": [
      "152043\n"
     ]
    }
   ],
   "source": [
    "total_reads = read_count_1 + read_count_2\n",
    "print(total_reads)"
   ]
  },
  {
   "cell_type": "code",
   "execution_count": 7,
   "id": "2eea66f1-576a-422b-9123-54bced0bae85",
   "metadata": {},
   "outputs": [
    {
     "name": "stdout",
     "output_type": "stream",
     "text": [
      "76021\n"
     ]
    }
   ],
   "source": [
    "# calculate average read count\n",
    "average = total_reads // 2\n",
    "print(average)"
   ]
  },
  {
   "cell_type": "code",
   "execution_count": 8,
   "id": "ceb5186e-4ce1-4ba4-9ca3-2b34ab83b753",
   "metadata": {},
   "outputs": [
    {
     "name": "stdout",
     "output_type": "stream",
     "text": [
      "True\n"
     ]
    }
   ],
   "source": [
    "# filtering based on read depth\n",
    "depth = 17\n",
    "print(depth > 10)"
   ]
  },
  {
   "cell_type": "code",
   "execution_count": 9,
   "id": "02c33707-6c31-4a77-b9b6-0c58b97a9428",
   "metadata": {},
   "outputs": [
    {
     "name": "stdout",
     "output_type": "stream",
     "text": [
      "True\n"
     ]
    }
   ],
   "source": [
    "# position based logic\n",
    "print(mutation_position < seq_length)"
   ]
  }
 ],
 "metadata": {
  "kernelspec": {
   "display_name": "Python 3 (ipykernel)",
   "language": "python",
   "name": "python3"
  },
  "language_info": {
   "codemirror_mode": {
    "name": "ipython",
    "version": 3
   },
   "file_extension": ".py",
   "mimetype": "text/x-python",
   "name": "python",
   "nbconvert_exporter": "python",
   "pygments_lexer": "ipython3",
   "version": "3.12.3"
  }
 },
 "nbformat": 4,
 "nbformat_minor": 5
}
