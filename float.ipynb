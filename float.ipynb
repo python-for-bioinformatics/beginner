{
 "cells": [
  {
   "cell_type": "markdown",
   "id": "52be5c6d-cde2-4225-a318-b72899c46735",
   "metadata": {},
   "source": [
    "# Defining Floats in Python"
   ]
  },
  {
   "cell_type": "code",
   "execution_count": 7,
   "id": "c9a8e5c1-b200-4e86-87cf-fb9e910edc41",
   "metadata": {},
   "outputs": [
    {
     "name": "stdout",
     "output_type": "stream",
     "text": [
      "23.89\n",
      "<class 'float'>\n"
     ]
    }
   ],
   "source": [
    "# expression value (TPM)\n",
    "expression_tpm = 23.89\n",
    "print(expression_tpm)\n",
    "print(type(expression_tpm))"
   ]
  },
  {
   "cell_type": "code",
   "execution_count": 9,
   "id": "0d32a9a8-a49f-4c08-9531-edb7bf45b880",
   "metadata": {},
   "outputs": [
    {
     "name": "stdout",
     "output_type": "stream",
     "text": [
      "37.5\n",
      "<class 'float'>\n"
     ]
    }
   ],
   "source": [
    "# quality score\n",
    "avg_quality = 37.5\n",
    "print(avg_quality)\n",
    "print(type(avg_quality))"
   ]
  },
  {
   "cell_type": "code",
   "execution_count": 11,
   "id": "5dc2f9d3-aeb9-48d6-b208-cc8343201240",
   "metadata": {},
   "outputs": [
    {
     "name": "stdout",
     "output_type": "stream",
     "text": [
      "1.2e-50\n",
      "<class 'float'>\n"
     ]
    }
   ],
   "source": [
    "# e value from BLAST\n",
    "e_value = 1.2e-50\n",
    "print(e_value)\n",
    "print(type(e_value))"
   ]
  },
  {
   "cell_type": "markdown",
   "id": "525fa351-bdda-45a7-9dcc-59b7cde27369",
   "metadata": {},
   "source": [
    "# Float operations in Bioinformatics"
   ]
  },
  {
   "cell_type": "code",
   "execution_count": 12,
   "id": "fd279fd2-5743-48f1-bfc5-e67e63068867",
   "metadata": {},
   "outputs": [
    {
     "name": "stdout",
     "output_type": "stream",
     "text": [
      "23.866666666666664\n"
     ]
    }
   ],
   "source": [
    "# calculating average expression from 3 values\n",
    "exp1 = 21.4\n",
    "exp2 = 25.7\n",
    "exp3 = 24.5\n",
    "avg_exp = (exp1 + exp2 + exp3)/3\n",
    "print(avg_exp)"
   ]
  },
  {
   "cell_type": "code",
   "execution_count": 13,
   "id": "d311fbb3-789d-4046-bf9f-bed740c56152",
   "metadata": {},
   "outputs": [
    {
     "name": "stdout",
     "output_type": "stream",
     "text": [
      "23.87\n"
     ]
    }
   ],
   "source": [
    "# rounding\n",
    "rounded = round(avg_exp, 2)\n",
    "print(rounded)"
   ]
  },
  {
   "cell_type": "code",
   "execution_count": 14,
   "id": "38e10700-436d-48c4-8982-f5d1a19ef579",
   "metadata": {},
   "outputs": [
    {
     "name": "stdout",
     "output_type": "stream",
     "text": [
      "True\n"
     ]
    }
   ],
   "source": [
    "# filtering based on quality\n",
    "print(avg_quality > 30)"
   ]
  },
  {
   "cell_type": "code",
   "execution_count": 15,
   "id": "9c00dea9-a0b6-44bd-8f29-f71454f94b40",
   "metadata": {},
   "outputs": [
    {
     "name": "stdout",
     "output_type": "stream",
     "text": [
      "True\n"
     ]
    }
   ],
   "source": [
    "# e-value threshold\n",
    "print(e_value < 1e-5)"
   ]
  }
 ],
 "metadata": {
  "kernelspec": {
   "display_name": "Python 3 (ipykernel)",
   "language": "python",
   "name": "python3"
  },
  "language_info": {
   "codemirror_mode": {
    "name": "ipython",
    "version": 3
   },
   "file_extension": ".py",
   "mimetype": "text/x-python",
   "name": "python",
   "nbconvert_exporter": "python",
   "pygments_lexer": "ipython3",
   "version": "3.12.3"
  }
 },
 "nbformat": 4,
 "nbformat_minor": 5
}
