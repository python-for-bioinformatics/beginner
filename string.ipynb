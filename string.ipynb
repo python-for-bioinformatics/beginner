{
 "cells": [
  {
   "cell_type": "markdown",
   "id": "52d93ca4-5caf-469a-ab00-80181a3ad610",
   "metadata": {},
   "source": [
    "# Defining a String"
   ]
  },
  {
   "cell_type": "code",
   "execution_count": 2,
   "id": "6a8b686f-1947-4572-a5ba-b79c9f823810",
   "metadata": {},
   "outputs": [
    {
     "name": "stdout",
     "output_type": "stream",
     "text": [
      "ATGCGTTAAC\n",
      "<class 'str'>\n"
     ]
    }
   ],
   "source": [
    "dna_sequence_1 = 'ATGCGTTAAC'\n",
    "print(dna_sequence_1)\n",
    "print(type(dna_sequence_1))"
   ]
  },
  {
   "cell_type": "code",
   "execution_count": 4,
   "id": "66d1cb41-7d9a-465d-a7f8-56dcad50213a",
   "metadata": {},
   "outputs": [
    {
     "name": "stdout",
     "output_type": "stream",
     "text": [
      "TTTTAAAA\n",
      "<class 'str'>\n"
     ]
    }
   ],
   "source": [
    "dna_sequence_1 = \"TTTTAAAA\"\n",
    "print(dna_sequence_1)\n",
    "print(type(dna_sequence_1))"
   ]
  },
  {
   "cell_type": "code",
   "execution_count": 5,
   "id": "87a2576d-74b7-46a0-b141-32926cac6a6b",
   "metadata": {},
   "outputs": [
    {
     "ename": "NameError",
     "evalue": "name 'CGCGCGCG' is not defined",
     "output_type": "error",
     "traceback": [
      "\u001b[31m---------------------------------------------------------------------------\u001b[39m",
      "\u001b[31mNameError\u001b[39m                                 Traceback (most recent call last)",
      "\u001b[36mCell\u001b[39m\u001b[36m \u001b[39m\u001b[32mIn[5]\u001b[39m\u001b[32m, line 1\u001b[39m\n\u001b[32m----> \u001b[39m\u001b[32m1\u001b[39m dna_sequence_1 = \u001b[43mCGCGCGCG\u001b[49m\n\u001b[32m      2\u001b[39m \u001b[38;5;28mprint\u001b[39m(dna_sequence_1)\n\u001b[32m      3\u001b[39m \u001b[38;5;28mprint\u001b[39m(\u001b[38;5;28mtype\u001b[39m(dna_sequence_1))\n",
      "\u001b[31mNameError\u001b[39m: name 'CGCGCGCG' is not defined"
     ]
    }
   ],
   "source": [
    "dna_sequence_1 = CGCGCGCG\n",
    "print(dna_sequence_1)\n",
    "print(type(dna_sequence_1))"
   ]
  },
  {
   "cell_type": "code",
   "execution_count": 7,
   "id": "6e9a30ee-b52a-41b1-b108-ee1d0d49a730",
   "metadata": {},
   "outputs": [
    {
     "name": "stdout",
     "output_type": "stream",
     "text": [
      "BRCA1\n",
      "<class 'str'>\n"
     ]
    }
   ],
   "source": [
    "gene_name = 'BRCA1'\n",
    "print(gene_name)\n",
    "print(type(gene_name))"
   ]
  },
  {
   "cell_type": "markdown",
   "id": "b92acaff-6578-4ccc-843d-50041a079de8",
   "metadata": {},
   "source": [
    "# String Indexing"
   ]
  },
  {
   "cell_type": "code",
   "execution_count": 11,
   "id": "31a7858b-7386-4ed9-a169-a0c5120254f3",
   "metadata": {},
   "outputs": [
    {
     "name": "stdout",
     "output_type": "stream",
     "text": [
      "T\n",
      "G\n",
      "C\n",
      "G\n"
     ]
    }
   ],
   "source": [
    "dna_sequence_2 = \"TGAGGC\"\n",
    "first_base = dna_sequence_2[0]\n",
    "second_base = dna_sequence_2[1]\n",
    "\n",
    "last_base = dna_sequence_2[-1]\n",
    "second_last = dna_sequence_2[-2]\n",
    "\n",
    "print(first_base)\n",
    "print(second_base)\n",
    "print(last_base)\n",
    "print(second_last)"
   ]
  },
  {
   "cell_type": "code",
   "execution_count": 13,
   "id": "47fdd21a-b008-47d9-baa2-e2abc8ed0e25",
   "metadata": {},
   "outputs": [
    {
     "name": "stdout",
     "output_type": "stream",
     "text": [
      "First Base in our DNA Sequence is:  T\n",
      "Second Base in our DNA Sequence is:  G\n",
      "Last Base in our DNA Sequence is:  C\n",
      "Second Last Base in our DNA Sequence is:  G\n"
     ]
    }
   ],
   "source": [
    "print(\"First Base in our DNA Sequence is: \", first_base)\n",
    "print(\"Second Base in our DNA Sequence is: \", second_base)\n",
    "print(\"Last Base in our DNA Sequence is: \", last_base)\n",
    "print(\"Second Last Base in our DNA Sequence is: \", second_last)"
   ]
  },
  {
   "cell_type": "markdown",
   "id": "b92f562a-684e-4074-9d95-26637e56dc3f",
   "metadata": {},
   "source": [
    "# String Slicing"
   ]
  },
  {
   "cell_type": "code",
   "execution_count": 18,
   "id": "11df4798-0eb2-48be-ad0e-ce7fb1c0a0b6",
   "metadata": {},
   "outputs": [
    {
     "name": "stdout",
     "output_type": "stream",
     "text": [
      "ACG\n",
      "TAG\n",
      "ACGT\n",
      "AGC\n",
      "ACGTAGC\n"
     ]
    }
   ],
   "source": [
    "dna_sequence_3 = 'ACGTAGC'\n",
    "first_three = dna_sequence_3[0:3]\n",
    "print(first_three)\n",
    "\n",
    "next_three = dna_sequence_3[3:6]\n",
    "print(next_three)\n",
    "\n",
    "from_start = dna_sequence_3[:4]\n",
    "print(from_start)\n",
    "\n",
    "to_end = dna_sequence_3[4:]\n",
    "print(to_end)\n",
    "\n",
    "entire_sequence = dna_sequence_3[:]\n",
    "print(entire_sequence)"
   ]
  },
  {
   "cell_type": "code",
   "execution_count": 25,
   "id": "b36b7bec-3708-4330-b2b0-28dd7ca8c38f",
   "metadata": {},
   "outputs": [
    {
     "name": "stdout",
     "output_type": "stream",
     "text": [
      "AGAC\n",
      "CAGA\n",
      "ACGTAGC\n",
      "ACGTAGC\n",
      "ACGTAGC\n"
     ]
    }
   ],
   "source": [
    "# example showing how step values work\n",
    "dna_sequence_3 = 'ACGTAGC'\n",
    "\n",
    "every_second_base = dna_sequence_3[0:7:2] #step = 2\n",
    "print(every_second_base)\n",
    "\n",
    "reverse_every_second = dna_sequence_3[::-2] #step = -2\n",
    "print(reverse_every_second)\n",
    "\n",
    "print(dna_sequence_3[::1])\n",
    "print(dna_sequence_3[::])\n",
    "print(dna_sequence_3[:])"
   ]
  },
  {
   "cell_type": "code",
   "execution_count": 27,
   "id": "0066a000-d19f-4eff-8851-0308ed51242f",
   "metadata": {},
   "outputs": [
    {
     "name": "stdout",
     "output_type": "stream",
     "text": [
      "ACATTAG\n",
      "ACATTAG\n"
     ]
    }
   ],
   "source": [
    "# reversing a DNA sequence\n",
    "dna_sequence_4 = \"GATTACA\"\n",
    "reversed_sequence = dna_sequence_4[::-1]\n",
    "print(reversed_sequence)\n",
    "print(dna_sequence_4[::-1])"
   ]
  },
  {
   "cell_type": "markdown",
   "id": "fe0021f7-8e03-4c83-b6e9-9055b30dba11",
   "metadata": {},
   "source": [
    "# String Concatenation"
   ]
  },
  {
   "cell_type": "code",
   "execution_count": 28,
   "id": "89619955-f6a9-4c4d-aba2-d8951a0de443",
   "metadata": {},
   "outputs": [
    {
     "name": "stdout",
     "output_type": "stream",
     "text": [
      "ATGCGT\n"
     ]
    }
   ],
   "source": [
    "dna_sequence_5 = 'ATG'\n",
    "dna_sequence_6 = \"CGT\"\n",
    "combined_sequence = dna_sequence_5 + dna_sequence_6\n",
    "print(combined_sequence)"
   ]
  },
  {
   "cell_type": "code",
   "execution_count": 29,
   "id": "9935fb6b-51ce-4674-bbe8-6266a3250371",
   "metadata": {},
   "outputs": [
    {
     "name": "stdout",
     "output_type": "stream",
     "text": [
      "ATGCCCCC\n"
     ]
    }
   ],
   "source": [
    "combined_sequence_2 = \"ATGC\" + \"CCCC\"\n",
    "print(combined_sequence_2)"
   ]
  },
  {
   "cell_type": "markdown",
   "id": "ad061b96-8df3-4a49-a4aa-8bbef6b60402",
   "metadata": {},
   "source": [
    "# Adding Strings to Integers or Vice Versa"
   ]
  },
  {
   "cell_type": "code",
   "execution_count": 30,
   "id": "873b0a2d-545e-44fa-8f37-f3cf3133b47d",
   "metadata": {},
   "outputs": [
    {
     "ename": "TypeError",
     "evalue": "can only concatenate str (not \"int\") to str",
     "output_type": "error",
     "traceback": [
      "\u001b[31m---------------------------------------------------------------------------\u001b[39m",
      "\u001b[31mTypeError\u001b[39m                                 Traceback (most recent call last)",
      "\u001b[36mCell\u001b[39m\u001b[36m \u001b[39m\u001b[32mIn[30]\u001b[39m\u001b[32m, line 1\u001b[39m\n\u001b[32m----> \u001b[39m\u001b[32m1\u001b[39m result = \u001b[43mdna_sequence_5\u001b[49m\u001b[43m \u001b[49m\u001b[43m+\u001b[49m\u001b[43m \u001b[49m\u001b[32;43m5\u001b[39;49m\n",
      "\u001b[31mTypeError\u001b[39m: can only concatenate str (not \"int\") to str"
     ]
    }
   ],
   "source": [
    "result = dna_sequence_5 + 5"
   ]
  },
  {
   "cell_type": "code",
   "execution_count": 32,
   "id": "4a22abd2-811a-4c2a-9150-4d93cc9bdcfe",
   "metadata": {},
   "outputs": [
    {
     "name": "stdout",
     "output_type": "stream",
     "text": [
      "ATG5\n"
     ]
    }
   ],
   "source": [
    "result = dna_sequence_5 + str(5)\n",
    "print(result)"
   ]
  },
  {
   "cell_type": "markdown",
   "id": "76778316-8969-437b-b86e-6e1081ffb8c8",
   "metadata": {},
   "source": [
    "# Length of a String"
   ]
  },
  {
   "cell_type": "code",
   "execution_count": 34,
   "id": "7e102bd5-5836-494a-a45c-3d1958030590",
   "metadata": {},
   "outputs": [
    {
     "name": "stdout",
     "output_type": "stream",
     "text": [
      "6\n",
      "6\n"
     ]
    }
   ],
   "source": [
    "dna_sequence_7 = \"AAGCTT\"\n",
    "sequence_length = len(dna_sequence_7)\n",
    "print(sequence_length)\n",
    "print(len(dna_sequence_7))"
   ]
  },
  {
   "cell_type": "code",
   "execution_count": 35,
   "id": "745fb051-7c66-4405-a7e7-aaf23bf41e8d",
   "metadata": {},
   "outputs": [
    {
     "name": "stdout",
     "output_type": "stream",
     "text": [
      "8\n"
     ]
    }
   ],
   "source": [
    "print(len(\"ATGACATA\"))"
   ]
  }
 ],
 "metadata": {
  "kernelspec": {
   "display_name": "Python 3 (ipykernel)",
   "language": "python",
   "name": "python3"
  },
  "language_info": {
   "codemirror_mode": {
    "name": "ipython",
    "version": 3
   },
   "file_extension": ".py",
   "mimetype": "text/x-python",
   "name": "python",
   "nbconvert_exporter": "python",
   "pygments_lexer": "ipython3",
   "version": "3.12.3"
  }
 },
 "nbformat": 4,
 "nbformat_minor": 5
}
