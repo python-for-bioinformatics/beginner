{
 "cells": [
  {
   "cell_type": "markdown",
   "id": "752c51b7-0bfa-484f-bac6-fc896d99b435",
   "metadata": {},
   "source": [
    "# Creating tuples in Python"
   ]
  },
  {
   "cell_type": "code",
   "execution_count": 19,
   "id": "3dcd0d41-cc9c-4085-899f-88c4b4d67a4b",
   "metadata": {},
   "outputs": [
    {
     "name": "stdout",
     "output_type": "stream",
     "text": [
      "Tuple of codons:  ('ATG', 'CGT', 'TTA')\n"
     ]
    }
   ],
   "source": [
    "# Tuple of codons\n",
    "codons = (\"ATG\", \"CGT\", \"TTA\")\n",
    "print(\"Tuple of codons: \", codons)"
   ]
  },
  {
   "cell_type": "code",
   "execution_count": 20,
   "id": "10808494-0054-4706-96bb-ed6eccf1c5cc",
   "metadata": {},
   "outputs": [
    {
     "name": "stdout",
     "output_type": "stream",
     "text": [
      "Tuple of gene names:  ('BRCA1', 'TP53', 'EGFR')\n"
     ]
    }
   ],
   "source": [
    "# Tuple of gene names\n",
    "genes = (\"BRCA1\", \"TP53\", \"EGFR\")\n",
    "print(\"Tuple of gene names: \", genes)"
   ]
  },
  {
   "cell_type": "code",
   "execution_count": 21,
   "id": "bf1569ce-ebef-4654-a7e0-330ecb35528e",
   "metadata": {},
   "outputs": [
    {
     "name": "stdout",
     "output_type": "stream",
     "text": [
      "Tuple of read counts:  (250, 300, 500)\n"
     ]
    }
   ],
   "source": [
    "# Tuple of read counts\n",
    "read_counts = (250, 300, 500)\n",
    "print(\"Tuple of read counts: \", read_counts)"
   ]
  },
  {
   "cell_type": "code",
   "execution_count": 22,
   "id": "8e6ea072-3b05-4838-8cc1-2632fa65a48a",
   "metadata": {},
   "outputs": [
    {
     "name": "stdout",
     "output_type": "stream",
     "text": [
      "Type of codons variable:  <class 'tuple'>\n"
     ]
    }
   ],
   "source": [
    "# Checking the type of a tuple\n",
    "print(\"Type of codons variable: \", type(codons))"
   ]
  },
  {
   "cell_type": "markdown",
   "id": "6ac46ce2-c62a-4f8a-861a-08fba5f28d9e",
   "metadata": {},
   "source": [
    "# Tuple indexing and slicing"
   ]
  },
  {
   "cell_type": "code",
   "execution_count": 25,
   "id": "dfec2e35-f766-4d2d-80ee-c179f7717db4",
   "metadata": {},
   "outputs": [
    {
     "name": "stdout",
     "output_type": "stream",
     "text": [
      "Original DNA tuple:  ('ATG', 'AAA', 'CGC', 'TAG')\n",
      "First codon (index 0):  ATG\n",
      "Second codon (index 1):  AAA\n"
     ]
    }
   ],
   "source": [
    "# Creating a tuple of DNA sequences\n",
    "dna_tuple = (\"ATG\", \"AAA\", \"CGC\", \"TAG\")\n",
    "print(\"Original DNA tuple: \", dna_tuple)\n",
    "\n",
    "# Accessing elements using positive indexing\n",
    "first_codon = dna_tuple[0]\n",
    "print(\"First codon (index 0): \", first_codon)\n",
    "\n",
    "second_codon = dna_tuple[1]\n",
    "print(\"Second codon (index 1): \", second_codon)"
   ]
  },
  {
   "cell_type": "code",
   "execution_count": 27,
   "id": "050a14c9-6407-4656-ab4a-313845beb044",
   "metadata": {},
   "outputs": [
    {
     "name": "stdout",
     "output_type": "stream",
     "text": [
      "Last codon (index -1):  TAG\n",
      "Second last codon (index -2):  CGC\n"
     ]
    }
   ],
   "source": [
    "# Accessing elements using negative indexing\n",
    "last_codon = dna_tuple[-1]\n",
    "print(\"Last codon (index -1): \", last_codon)\n",
    "\n",
    "second_last_codon = dna_tuple[-2]\n",
    "print(\"Second last codon (index -2): \", second_last_codon)"
   ]
  },
  {
   "cell_type": "code",
   "execution_count": 30,
   "id": "a54f3849-60aa-4d48-bf88-a0d691d5d04f",
   "metadata": {},
   "outputs": [
    {
     "name": "stdout",
     "output_type": "stream",
     "text": [
      "First two codons (slice 0:2):  ('ATG', 'AAA')\n",
      "Codons from second to end (slice 1:):  ('AAA', 'CGC', 'TAG')\n",
      "Every second codon (slice 0:4:2):  ('ATG', 'CGC')\n"
     ]
    }
   ],
   "source": [
    "# Slicing tuples\n",
    "first_two = dna_tuple[0:2]\n",
    "print(\"First two codons (slice 0:2): \", first_two)\n",
    "\n",
    "from_second = dna_tuple[1:]\n",
    "print(\"Codons from second to end (slice 1:): \", from_second)\n",
    "\n",
    "every_second = dna_tuple[0:4:2]\n",
    "print(\"Every second codon (slice 0:4:2): \", every_second)"
   ]
  },
  {
   "cell_type": "code",
   "execution_count": 32,
   "id": "5914aa3d-77a9-4c0a-bf70-b37eae4c400f",
   "metadata": {},
   "outputs": [
    {
     "name": "stdout",
     "output_type": "stream",
     "text": [
      "Reversed DNA tuple:  ('TAG', 'CGC', 'AAA', 'ATG')\n",
      "Original DNA tuple:  ('ATG', 'AAA', 'CGC', 'TAG')\n"
     ]
    }
   ],
   "source": [
    "# Reversing the tuple\n",
    "reversed_tuple = dna_tuple[::-1]\n",
    "print(\"Reversed DNA tuple: \", reversed_tuple)\n",
    "print(\"Original DNA tuple: \", dna_tuple)"
   ]
  },
  {
   "cell_type": "markdown",
   "id": "0ec3f047-53d2-43f1-825e-5e13ffa66288",
   "metadata": {},
   "source": [
    "# Immutability: tuples cannot be changed once created"
   ]
  },
  {
   "cell_type": "code",
   "execution_count": 34,
   "id": "fd25146c-1a7b-47a7-bbc0-50d0c5e32efd",
   "metadata": {},
   "outputs": [
    {
     "name": "stdout",
     "output_type": "stream",
     "text": [
      "Orignal tuple:  ('ATG', 'CGT', 'TTA')\n"
     ]
    },
    {
     "ename": "TypeError",
     "evalue": "'tuple' object does not support item assignment",
     "output_type": "error",
     "traceback": [
      "\u001b[31m---------------------------------------------------------------------------\u001b[39m",
      "\u001b[31mTypeError\u001b[39m                                 Traceback (most recent call last)",
      "\u001b[36mCell\u001b[39m\u001b[36m \u001b[39m\u001b[32mIn[34]\u001b[39m\u001b[32m, line 7\u001b[39m\n\u001b[32m      2\u001b[39m \u001b[38;5;28mprint\u001b[39m(\u001b[33m\"\u001b[39m\u001b[33mOrignal tuple: \u001b[39m\u001b[33m\"\u001b[39m, dna_tuple)\n\u001b[32m      4\u001b[39m \u001b[38;5;66;03m# Attempting to change an element will raise an error\u001b[39;00m\n\u001b[32m      5\u001b[39m \u001b[38;5;66;03m# Uncommenting the next line will cause a TypeError\u001b[39;00m\n\u001b[32m      6\u001b[39m \u001b[38;5;66;03m# dna_tuple[0] = \"AAA\"\u001b[39;00m\n\u001b[32m----> \u001b[39m\u001b[32m7\u001b[39m \u001b[43mdna_tuple\u001b[49m\u001b[43m[\u001b[49m\u001b[32;43m0\u001b[39;49m\u001b[43m]\u001b[49m = \u001b[33m\"\u001b[39m\u001b[33mAAA\u001b[39m\u001b[33m\"\u001b[39m\n",
      "\u001b[31mTypeError\u001b[39m: 'tuple' object does not support item assignment"
     ]
    }
   ],
   "source": [
    "dna_tuple = (\"ATG\", \"CGT\", \"TTA\")\n",
    "print(\"Orignal tuple: \", dna_tuple)\n",
    "\n",
    "# Attempting to change an element will raise an error\n",
    "# Uncommenting the next line will cause a TypeError\n",
    "# dna_tuple[0] = \"AAA\"\n",
    "dna_tuple[0] = \"AAA\""
   ]
  },
  {
   "cell_type": "code",
   "execution_count": 35,
   "id": "f6cc5c68-753e-44f0-a844-5752fbec472f",
   "metadata": {},
   "outputs": [
    {
     "name": "stdout",
     "output_type": "stream",
     "text": [
      "After concatenation:  ('ATG', 'CGT', 'TTA', 'CGC', 'TTA')\n"
     ]
    }
   ],
   "source": [
    "# Concatenation: combining tuples\n",
    "extra_codons = (\"CGC\", \"TTA\")\n",
    "combined_tuple = dna_tuple + extra_codons\n",
    "print(\"After concatenation: \", combined_tuple)"
   ]
  },
  {
   "cell_type": "code",
   "execution_count": 38,
   "id": "9204fd0f-68f7-4cb1-a16f-3e0f6cfb2c28",
   "metadata": {},
   "outputs": [
    {
     "name": "stdout",
     "output_type": "stream",
     "text": [
      "After repetition:  ('ATG', 'CGT', 'TTA', 'ATG', 'CGT', 'TTA')\n"
     ]
    }
   ],
   "source": [
    "# Repetition: repeating tuples\n",
    "repeated_tuple = dna_tuple * 2\n",
    "print(\"After repetition: \", repeated_tuple)"
   ]
  },
  {
   "cell_type": "code",
   "execution_count": 40,
   "id": "43ef3eac-833c-44ac-9bbe-a1de278a1809",
   "metadata": {},
   "outputs": [
    {
     "name": "stdout",
     "output_type": "stream",
     "text": [
      "Is 'CGT' in dna_tuple?  True\n",
      "Is 'GGA' in dna_tuple?  False\n"
     ]
    }
   ],
   "source": [
    "# Membership: check if an item is in a tuple\n",
    "print(\"Is 'CGT' in dna_tuple? \", \"CGT\" in dna_tuple)\n",
    "print(\"Is 'GGA' in dna_tuple? \", \"GGA\" in dna_tuple)"
   ]
  },
  {
   "cell_type": "code",
   "execution_count": 41,
   "id": "b7b88edf-29b3-44a9-a0cc-2a0cc0c543a1",
   "metadata": {},
   "outputs": [
    {
     "name": "stdout",
     "output_type": "stream",
     "text": [
      "Length of dna_tuple:  3\n"
     ]
    }
   ],
   "source": [
    "# Length of a tuple\n",
    "print(\"Length of dna_tuple: \", len(dna_tuple))"
   ]
  },
  {
   "cell_type": "code",
   "execution_count": 42,
   "id": "b8fbc54d-5cbe-4d60-9178-a58562c21c9a",
   "metadata": {},
   "outputs": [
    {
     "name": "stdout",
     "output_type": "stream",
     "text": [
      "Modified tuple by converting to list and back:  ('AAA', 'CGT', 'TTA')\n"
     ]
    }
   ],
   "source": [
    "# Converting tuple to list to modify\n",
    "dna_list = list(dna_tuple)\n",
    "dna_list[0] = \"AAA\"\n",
    "dna_tuple_modified = tuple(dna_list)\n",
    "print(\"Modified tuple by converting to list and back: \", dna_tuple_modified)"
   ]
  },
  {
   "cell_type": "code",
   "execution_count": 45,
   "id": "f562559b-a6a9-46fb-98f1-5be8615fe64c",
   "metadata": {},
   "outputs": [
    {
     "name": "stdout",
     "output_type": "stream",
     "text": [
      "Type of single_wrong:  <class 'str'>\n",
      "Type of single_right:  <class 'tuple'>\n"
     ]
    }
   ],
   "source": [
    "# Single-element tuple requires a comma\n",
    "single_wrong = (\"ATG\") # This is just a string\n",
    "single_right = (\"ATG\",) # This is a tuple with one element\n",
    "print(\"Type of single_wrong: \", type(single_wrong))\n",
    "print(\"Type of single_right: \", type(single_right))"
   ]
  },
  {
   "cell_type": "markdown",
   "id": "14d16ca7-311b-49a6-b4a6-8212e5caf7b7",
   "metadata": {},
   "source": [
    "# Tuple unpacking"
   ]
  },
  {
   "cell_type": "code",
   "execution_count": 46,
   "id": "e38f6b8e-b41e-48cf-bebc-b7237412bee8",
   "metadata": {},
   "outputs": [
    {
     "name": "stdout",
     "output_type": "stream",
     "text": [
      "Chromosome:  chr1\n",
      "Position:  12345\n"
     ]
    }
   ],
   "source": [
    "# We have a tuple containing a chromosome and a position\n",
    "coord = (\"chr1\", 12345)\n",
    "\n",
    "# Unpacking the tuple into two separate variables\n",
    "chromosome, position = coord\n",
    "print(\"Chromosome: \", chromosome)\n",
    "print(\"Position: \", position)"
   ]
  },
  {
   "cell_type": "markdown",
   "id": "202a7e22-e3ce-4472-88d0-2f8371668886",
   "metadata": {},
   "source": [
    "# List vs Tuple"
   ]
  },
  {
   "cell_type": "code",
   "execution_count": 50,
   "id": "15083ff1-18c1-4ac6-b7f7-a230ae33eb3e",
   "metadata": {},
   "outputs": [
    {
     "name": "stdout",
     "output_type": "stream",
     "text": [
      "List:  [1, 2, 3]\n",
      "Tuple:  (1, 2, 3)\n",
      "\n",
      "Modifying the list is allowed: \n",
      "Modified list:  [10, 2, 3]\n",
      "\n",
      " Trying to modify the tuple will cause an error: \n",
      "Error:  'tuple' object does not support item assignment\n"
     ]
    }
   ],
   "source": [
    "my_list = [1, 2, 3]\n",
    "my_tuple = (1, 2, 3)\n",
    "\n",
    "print(\"List: \", my_list)\n",
    "print(\"Tuple: \", my_tuple)\n",
    "\n",
    "# Mutability demonstration\n",
    "print(\"\\nModifying the list is allowed: \")\n",
    "my_list[0] = 10\n",
    "print(\"Modified list: \", my_list)\n",
    "\n",
    "print(\"\\n Trying to modify the tuple will cause an error: \")\n",
    "try:\n",
    "    my_tuple[0] = 10\n",
    "except TypeError as e:\n",
    "    print(\"Error: \", e)"
   ]
  },
  {
   "cell_type": "code",
   "execution_count": 51,
   "id": "03c46d3c-ee6b-44e7-9a38-7932c9055fb6",
   "metadata": {},
   "outputs": [
    {
     "ename": "TypeError",
     "evalue": "'tuple' object does not support item assignment",
     "output_type": "error",
     "traceback": [
      "\u001b[31m---------------------------------------------------------------------------\u001b[39m",
      "\u001b[31mTypeError\u001b[39m                                 Traceback (most recent call last)",
      "\u001b[36mCell\u001b[39m\u001b[36m \u001b[39m\u001b[32mIn[51]\u001b[39m\u001b[32m, line 1\u001b[39m\n\u001b[32m----> \u001b[39m\u001b[32m1\u001b[39m \u001b[43mmy_tuple\u001b[49m\u001b[43m[\u001b[49m\u001b[32;43m0\u001b[39;49m\u001b[43m]\u001b[49m = \u001b[32m10\u001b[39m\n",
      "\u001b[31mTypeError\u001b[39m: 'tuple' object does not support item assignment"
     ]
    }
   ],
   "source": [
    "my_tuple[0] = 10"
   ]
  }
 ],
 "metadata": {
  "kernelspec": {
   "display_name": "Python 3 (ipykernel)",
   "language": "python",
   "name": "python3"
  },
  "language_info": {
   "codemirror_mode": {
    "name": "ipython",
    "version": 3
   },
   "file_extension": ".py",
   "mimetype": "text/x-python",
   "name": "python",
   "nbconvert_exporter": "python",
   "pygments_lexer": "ipython3",
   "version": "3.12.3"
  }
 },
 "nbformat": 4,
 "nbformat_minor": 5
}
