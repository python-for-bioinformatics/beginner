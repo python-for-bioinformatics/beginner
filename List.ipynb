{
 "cells": [
  {
   "cell_type": "markdown",
   "id": "09a3e8b3-247c-4e62-a8b0-c7fea9643694",
   "metadata": {},
   "source": [
    "## Creating a list of DNA sequences"
   ]
  },
  {
   "cell_type": "code",
   "execution_count": 4,
   "id": "e2278de7-b81f-4958-96bc-40baa7851e89",
   "metadata": {},
   "outputs": [
    {
     "name": "stdout",
     "output_type": "stream",
     "text": [
      "['ATG', 'CGT', 'TTA', 'GGC']\n",
      "<class 'list'>\n"
     ]
    }
   ],
   "source": [
    "dna_sequences = [\"ATG\", \"CGT\", \"TTA\", \"GGC\"]\n",
    "print(dna_sequences)\n",
    "print(type(dna_sequences))"
   ]
  },
  {
   "cell_type": "markdown",
   "id": "2244075c-da3e-4779-aede-902e2d4f3743",
   "metadata": {},
   "source": [
    "## Accessing list elements"
   ]
  },
  {
   "cell_type": "code",
   "execution_count": 6,
   "id": "7ae13e4d-adb3-4fa2-a494-111fa4708bff",
   "metadata": {},
   "outputs": [
    {
     "name": "stdout",
     "output_type": "stream",
     "text": [
      "ATG\n",
      "GGC\n"
     ]
    }
   ],
   "source": [
    "first_codon = dna_sequences[0]\n",
    "print(first_codon)\n",
    "\n",
    "last_codon = dna_sequences[-1]\n",
    "print(last_codon)"
   ]
  },
  {
   "cell_type": "markdown",
   "id": "2c117166-15b5-4f1a-94e6-4699845b4ed7",
   "metadata": {},
   "source": [
    "## List slicing examples"
   ]
  },
  {
   "cell_type": "code",
   "execution_count": 9,
   "id": "03805158-92a6-47e9-b6b4-17bf461778aa",
   "metadata": {},
   "outputs": [
    {
     "name": "stdout",
     "output_type": "stream",
     "text": [
      "['ATG', 'CGT']\n",
      "['TTA', 'GGC', 'AAC', 'CGA', 'TTG']\n",
      "['CGT', 'TTA', 'GGC', 'AAC']\n"
     ]
    }
   ],
   "source": [
    "dna_sequences = [\"ATG\", \"CGT\", \"TTA\", \"GGC\", \"AAC\", \"CGA\", \"TTG\"]\n",
    "\n",
    "first_two = dna_sequences[0:2]\n",
    "print(first_two)\n",
    "\n",
    "from_third = dna_sequences[2:]\n",
    "print(from_third)\n",
    "\n",
    "second_to_fifth = dna_sequences[1:5]\n",
    "print(second_to_fifth)"
   ]
  },
  {
   "cell_type": "markdown",
   "id": "9e1e89b9-1968-44cf-8b8d-78fc8784a73d",
   "metadata": {},
   "source": [
    "## Mixing data types inside a list"
   ]
  },
  {
   "cell_type": "code",
   "execution_count": 10,
   "id": "ca1330f7-9c93-4a6f-8023-89edc5a3fbdc",
   "metadata": {},
   "outputs": [
    {
     "name": "stdout",
     "output_type": "stream",
     "text": [
      "['BRCA1', 42, 3.14, True]\n"
     ]
    }
   ],
   "source": [
    "mixed_list = [\"BRCA1\", 42, 3.14, True]\n",
    "print(mixed_list)"
   ]
  },
  {
   "cell_type": "markdown",
   "id": "a8340ada-745a-40b8-8453-0511041043f5",
   "metadata": {},
   "source": [
    "## Nested list example"
   ]
  },
  {
   "cell_type": "code",
   "execution_count": 11,
   "id": "7da597c6-2dc3-41ab-8940-ca36fedd5e9b",
   "metadata": {},
   "outputs": [
    {
     "name": "stdout",
     "output_type": "stream",
     "text": [
      "[['ATG', 'CGT'], ['TTA', 'GGC']]\n"
     ]
    }
   ],
   "source": [
    "nested_list = [[\"ATG\", \"CGT\"], [\"TTA\", \"GGC\"]]\n",
    "print(nested_list)"
   ]
  },
  {
   "cell_type": "markdown",
   "id": "5df63500-9720-4e80-9d7e-b46833fa1947",
   "metadata": {},
   "source": [
    "## String vs List"
   ]
  },
  {
   "cell_type": "code",
   "execution_count": 13,
   "id": "dba86863-6f0c-45bf-ac64-a7b7361a89d4",
   "metadata": {},
   "outputs": [
    {
     "name": "stdout",
     "output_type": "stream",
     "text": [
      "ATGCGT\n",
      "['ATG', 'CGT']\n"
     ]
    }
   ],
   "source": [
    "string_example = \"ATGCGT\"\n",
    "print(string_example)\n",
    "\n",
    "list_example = [\"ATG\", \"CGT\"]\n",
    "print(list_example)"
   ]
  },
  {
   "cell_type": "markdown",
   "id": "84ff2627-8392-4233-a97a-0ee14f1875b9",
   "metadata": {},
   "source": [
    "## Why Use Lists When We Already Have Strings?"
   ]
  },
  {
   "cell_type": "code",
   "execution_count": 15,
   "id": "fda01e30-5594-4bde-b506-9fe9f03cbd5a",
   "metadata": {},
   "outputs": [
    {
     "name": "stdout",
     "output_type": "stream",
     "text": [
      "ATGCGT, TTAAGC, GGATTA\n",
      " TTAAG\n"
     ]
    }
   ],
   "source": [
    "# Using a string to store multiple sequences\n",
    "multi_seq_string = \"ATGCGT, TTAAGC, GGATTA\"\n",
    "print(multi_seq_string)\n",
    "\n",
    "# Trying to access the second sequence using slicing (tricky!)\n",
    "second_seq_string = multi_seq_string[7:13] #manually slicing indices\n",
    "print(second_seq_string)"
   ]
  },
  {
   "cell_type": "code",
   "execution_count": 17,
   "id": "db789bdc-3b3e-4e56-9845-8f6b7b77777a",
   "metadata": {},
   "outputs": [
    {
     "name": "stdout",
     "output_type": "stream",
     "text": [
      "['ATGCGT', 'TTAAGC', 'GGATTA']\n",
      "TTAAGC\n"
     ]
    }
   ],
   "source": [
    "# Using a list to store multiple sequences\n",
    "multi_seq_list = [\"ATGCGT\", \"TTAAGC\", \"GGATTA\"]\n",
    "print(multi_seq_list)\n",
    "\n",
    "# Trying to access the second sequence using (easy and efficient)\n",
    "second_dna_seq = multi_seq_list[1]\n",
    "print(second_dna_seq)"
   ]
  }
 ],
 "metadata": {
  "kernelspec": {
   "display_name": "Python 3 (ipykernel)",
   "language": "python",
   "name": "python3"
  },
  "language_info": {
   "codemirror_mode": {
    "name": "ipython",
    "version": 3
   },
   "file_extension": ".py",
   "mimetype": "text/x-python",
   "name": "python",
   "nbconvert_exporter": "python",
   "pygments_lexer": "ipython3",
   "version": "3.12.3"
  }
 },
 "nbformat": 4,
 "nbformat_minor": 5
}
