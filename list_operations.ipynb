{
 "cells": [
  {
   "cell_type": "markdown",
   "id": "bb9669e7-8c53-4997-8a1a-c73d8643db76",
   "metadata": {},
   "source": [
    "## Creating a list of DNA sequences"
   ]
  },
  {
   "cell_type": "code",
   "execution_count": 25,
   "id": "e84afcd8-de86-4c27-ab8f-e54c4b0aadc7",
   "metadata": {},
   "outputs": [
    {
     "name": "stdout",
     "output_type": "stream",
     "text": [
      "['ATG', 'CGT', 'TTA']\n"
     ]
    }
   ],
   "source": [
    "dna_list = [\"ATG\", \"CGT\", \"TTA\"]\n",
    "print(dna_list)"
   ]
  },
  {
   "cell_type": "markdown",
   "id": "a82528c3-767a-453c-8e10-284c88b26987",
   "metadata": {},
   "source": [
    "## Adding items"
   ]
  },
  {
   "cell_type": "code",
   "execution_count": 26,
   "id": "c8cd3b42-09d6-4daf-b409-db5cd940a303",
   "metadata": {},
   "outputs": [
    {
     "name": "stdout",
     "output_type": "stream",
     "text": [
      "After append:  ['ATG', 'CGT', 'TTA', 'GGC']\n"
     ]
    }
   ],
   "source": [
    "dna_list.append(\"GGC\")\n",
    "print(\"After append: \", dna_list)"
   ]
  },
  {
   "cell_type": "code",
   "execution_count": 27,
   "id": "38a746eb-10a5-463c-a8f3-9699ce44ac19",
   "metadata": {},
   "outputs": [
    {
     "name": "stdout",
     "output_type": "stream",
     "text": [
      "After insert at index 1:  ['ATG', 'AAC', 'CGT', 'TTA', 'GGC']\n"
     ]
    }
   ],
   "source": [
    "dna_list.insert(1, \"AAC\")\n",
    "print(\"After insert at index 1: \", dna_list)"
   ]
  },
  {
   "cell_type": "code",
   "execution_count": 28,
   "id": "e579f06b-13f9-4763-b5c0-1fc15c7c4e4c",
   "metadata": {},
   "outputs": [
    {
     "name": "stdout",
     "output_type": "stream",
     "text": [
      "After extend:  ['ATG', 'AAC', 'CGT', 'TTA', 'GGC', 'CGA', 'TTG']\n"
     ]
    }
   ],
   "source": [
    "dna_list.extend([\"CGA\", \"TTG\"])\n",
    "print(\"After extend: \", dna_list)"
   ]
  },
  {
   "cell_type": "markdown",
   "id": "0d4dfe3d-9e17-4b86-a7b7-327c231b9156",
   "metadata": {},
   "source": [
    "## `append`, `insert`, and `extend` modify the list in place"
   ]
  },
  {
   "cell_type": "code",
   "execution_count": 31,
   "id": "6140bac1-33a7-4ea6-b797-884c828ab05e",
   "metadata": {},
   "outputs": [
    {
     "name": "stdout",
     "output_type": "stream",
     "text": [
      "After append:  ['ATG', 'CGT', 'TTA']\n"
     ]
    }
   ],
   "source": [
    "dna_list = [\"ATG\", \"CGT\"]\n",
    "\n",
    "# this will modify dna_list directly\n",
    "dna_list.append(\"TTA\")\n",
    "print(\"After append: \", dna_list)"
   ]
  },
  {
   "cell_type": "code",
   "execution_count": 32,
   "id": "1aff38d3-e3cd-4269-912d-0ab946274918",
   "metadata": {},
   "outputs": [
    {
     "name": "stdout",
     "output_type": "stream",
     "text": [
      "After insert at index 10:  ['ATG', 'CGT', 'TTA']\n"
     ]
    }
   ],
   "source": [
    "dna_list = [\"ATG\", \"CGT\"]\n",
    "dna_list.insert(10, \"TTA\") # index 10 is way beyond the list size\n",
    "print(\"After insert at index 10: \", dna_list)"
   ]
  },
  {
   "cell_type": "code",
   "execution_count": 33,
   "id": "6e892403-8b34-42db-b24c-d0520603dba0",
   "metadata": {},
   "outputs": [
    {
     "name": "stdout",
     "output_type": "stream",
     "text": [
      "After insert at index -1:  ['ATG', 'CGT', 'AAC', 'GGC']\n"
     ]
    }
   ],
   "source": [
    "dna_list = [\"ATG\", \"CGT\", \"GGC\"]\n",
    "\n",
    "dna_list.insert(-1, \"AAC\")\n",
    "print(\"After insert at index -1: \", dna_list)"
   ]
  },
  {
   "cell_type": "markdown",
   "id": "c85fbfdf-5bef-4c00-b173-22c6d0bc1e2b",
   "metadata": {},
   "source": [
    "## Removing items"
   ]
  },
  {
   "cell_type": "code",
   "execution_count": 35,
   "id": "b52f6a59-8c57-4f21-b30a-ef99043b6518",
   "metadata": {},
   "outputs": [
    {
     "name": "stdout",
     "output_type": "stream",
     "text": [
      "['ATG', 'AAC', 'CGT']\n"
     ]
    }
   ],
   "source": [
    "dna_list = [\"ATG\", \"AAC\", \"CGT\"]\n",
    "print(dna_list)"
   ]
  },
  {
   "cell_type": "code",
   "execution_count": 36,
   "id": "87a6b6aa-97dc-4ff6-a0f7-4e7121cc1487",
   "metadata": {},
   "outputs": [
    {
     "name": "stdout",
     "output_type": "stream",
     "text": [
      "After remove:  ['ATG', 'CGT']\n"
     ]
    }
   ],
   "source": [
    "dna_list.remove(\"AAC\")\n",
    "print(\"After remove: \", dna_list)"
   ]
  },
  {
   "cell_type": "code",
   "execution_count": 37,
   "id": "581a4c76-a3ae-4720-b81c-950c7504f2d2",
   "metadata": {},
   "outputs": [
    {
     "name": "stdout",
     "output_type": "stream",
     "text": [
      "['ATG', 'CGT', 'TTA', 'GGC']\n"
     ]
    }
   ],
   "source": [
    "dna_list = [\"ATG\", \"CGT\", \"TTA\", \"GGC\"]\n",
    "print(dna_list)"
   ]
  },
  {
   "cell_type": "code",
   "execution_count": 39,
   "id": "0164819b-ffc7-46a2-bade-b0b0b101df33",
   "metadata": {},
   "outputs": [
    {
     "name": "stdout",
     "output_type": "stream",
     "text": [
      "After pop at index 2:  ['ATG', 'CGT']\n",
      "Popped item:  GGC\n"
     ]
    }
   ],
   "source": [
    "removed_item = dna_list.pop(2)\n",
    "print(\"After pop at index 2: \", dna_list)\n",
    "print(\"Popped item: \", removed_item)"
   ]
  },
  {
   "cell_type": "code",
   "execution_count": 40,
   "id": "94ba2584-306e-40bc-b5ed-8ce86818b69a",
   "metadata": {},
   "outputs": [
    {
     "name": "stdout",
     "output_type": "stream",
     "text": [
      "After clear:  []\n"
     ]
    }
   ],
   "source": [
    "dna_list.clear()\n",
    "print(\"After clear: \", dna_list)"
   ]
  },
  {
   "cell_type": "markdown",
   "id": "ded1d771-30e2-4d67-bb2a-be292e4359ff",
   "metadata": {},
   "source": [
    "## Updating items"
   ]
  },
  {
   "cell_type": "code",
   "execution_count": 41,
   "id": "f1824931-769d-4283-b62e-1aab6e58a569",
   "metadata": {},
   "outputs": [
    {
     "name": "stdout",
     "output_type": "stream",
     "text": [
      "After update:  ['ATG', 'GGA', 'TTA']\n"
     ]
    }
   ],
   "source": [
    "dna_list = [\"ATG\", \"CGT\", \"TTA\"]\n",
    "dna_list[1] = \"GGA\"\n",
    "print(\"After update: \", dna_list)"
   ]
  },
  {
   "cell_type": "code",
   "execution_count": 42,
   "id": "7b050a06-f0ea-40b7-89db-f5203b4f4105",
   "metadata": {},
   "outputs": [
    {
     "ename": "IndexError",
     "evalue": "list assignment index out of range",
     "output_type": "error",
     "traceback": [
      "\u001b[31m---------------------------------------------------------------------------\u001b[39m",
      "\u001b[31mIndexError\u001b[39m                                Traceback (most recent call last)",
      "\u001b[36mCell\u001b[39m\u001b[36m \u001b[39m\u001b[32mIn[42]\u001b[39m\u001b[32m, line 1\u001b[39m\n\u001b[32m----> \u001b[39m\u001b[32m1\u001b[39m \u001b[43mdna_list\u001b[49m\u001b[43m[\u001b[49m\u001b[32;43m4\u001b[39;49m\u001b[43m]\u001b[49m = \u001b[33m\"\u001b[39m\u001b[33mAGG\u001b[39m\u001b[33m\"\u001b[39m\n",
      "\u001b[31mIndexError\u001b[39m: list assignment index out of range"
     ]
    }
   ],
   "source": [
    "dna_list[4] = \"AGG\""
   ]
  },
  {
   "cell_type": "code",
   "execution_count": 43,
   "id": "9cfacf8d-97f9-437d-9415-ceb38121672c",
   "metadata": {},
   "outputs": [
    {
     "name": "stdout",
     "output_type": "stream",
     "text": [
      "After slice update:  ['AAA', 'CCC', 'TTA']\n"
     ]
    }
   ],
   "source": [
    "dna_list[0:2] = [\"AAA\", \"CCC\"]\n",
    "print(\"After slice update: \", dna_list)"
   ]
  },
  {
   "cell_type": "markdown",
   "id": "8197d179-e975-49e8-9b33-8ac5b0fdc07a",
   "metadata": {},
   "source": [
    "## Searching and Counting"
   ]
  },
  {
   "cell_type": "code",
   "execution_count": 45,
   "id": "8e7aafa3-29ff-41af-a935-09b17da8f2ed",
   "metadata": {},
   "outputs": [
    {
     "name": "stdout",
     "output_type": "stream",
     "text": [
      "Index of 'TTA':  2\n",
      "Count of 'ATG':  2\n"
     ]
    }
   ],
   "source": [
    "dna_list = [\"ATG\", \"CGT\", \"TTA\", \"ATG\", \"CGT\"]\n",
    "print(\"Index of 'TTA': \", dna_list.index(\"TTA\"))\n",
    "print(\"Count of 'ATG': \", dna_list.count(\"ATG\"))"
   ]
  },
  {
   "cell_type": "markdown",
   "id": "7afe3d6a-dc54-4493-b6e8-a9bd7569f5fc",
   "metadata": {},
   "source": [
    "## Sorting and Reversing"
   ]
  },
  {
   "cell_type": "code",
   "execution_count": 46,
   "id": "ae196bdd-c94f-42d3-a995-e275b6dbec55",
   "metadata": {},
   "outputs": [
    {
     "name": "stdout",
     "output_type": "stream",
     "text": [
      "Sorted ascending:  [7, 25, 42, 100]\n"
     ]
    }
   ],
   "source": [
    "numbers = [42, 7, 100, 25]\n",
    "numbers.sort()\n",
    "print(\"Sorted ascending: \", numbers)"
   ]
  },
  {
   "cell_type": "code",
   "execution_count": 47,
   "id": "54e9a723-6184-46ee-9f30-82eadb80b23f",
   "metadata": {},
   "outputs": [
    {
     "name": "stdout",
     "output_type": "stream",
     "text": [
      "Sorted descending:  [100, 42, 25, 7]\n"
     ]
    }
   ],
   "source": [
    "numbers.sort(reverse = True)\n",
    "print(\"Sorted descending: \", numbers)"
   ]
  },
  {
   "cell_type": "code",
   "execution_count": 48,
   "id": "13c2e9a3-c02f-4cf0-8021-c953cf037274",
   "metadata": {},
   "outputs": [
    {
     "name": "stdout",
     "output_type": "stream",
     "text": [
      "Reversed order:  [7, 25, 42, 100]\n"
     ]
    }
   ],
   "source": [
    "numbers.reverse()\n",
    "print(\"Reversed order: \", numbers)"
   ]
  },
  {
   "cell_type": "markdown",
   "id": "66edf259-f47d-4091-905f-7b02d4c11dcc",
   "metadata": {},
   "source": [
    "## Combining lists"
   ]
  },
  {
   "cell_type": "code",
   "execution_count": 49,
   "id": "a2637e83-8331-49a6-a4dc-8578e6dfed67",
   "metadata": {},
   "outputs": [
    {
     "name": "stdout",
     "output_type": "stream",
     "text": [
      "Concatenated:  ['ATG', 'TTA', 'GGC', 'CGA']\n"
     ]
    }
   ],
   "source": [
    "list1 = [\"ATG\", \"TTA\"]\n",
    "list2 = [\"GGC\", \"CGA\"]\n",
    "\n",
    "combined = list1 + list2\n",
    "print(\"Concatenated: \", combined)"
   ]
  },
  {
   "cell_type": "code",
   "execution_count": 50,
   "id": "79a29049-2f9d-4d31-a0ea-4acdecd42746",
   "metadata": {},
   "outputs": [
    {
     "name": "stdout",
     "output_type": "stream",
     "text": [
      "Repeated:  ['ATG', 'TTA', 'ATG', 'TTA']\n"
     ]
    }
   ],
   "source": [
    "repeated = list1 * 2\n",
    "print(\"Repeated: \", repeated)"
   ]
  },
  {
   "cell_type": "code",
   "execution_count": 51,
   "id": "e6e94533-e7a2-4f0b-ba91-974e72c7b393",
   "metadata": {},
   "outputs": [
    {
     "name": "stdout",
     "output_type": "stream",
     "text": [
      "After extend:  ['ATG', 'TTA', 'GGC', 'CGA']\n"
     ]
    }
   ],
   "source": [
    "list1.extend(list2)\n",
    "print(\"After extend: \", list1)"
   ]
  }
 ],
 "metadata": {
  "kernelspec": {
   "display_name": "Python 3 (ipykernel)",
   "language": "python",
   "name": "python3"
  },
  "language_info": {
   "codemirror_mode": {
    "name": "ipython",
    "version": 3
   },
   "file_extension": ".py",
   "mimetype": "text/x-python",
   "name": "python",
   "nbconvert_exporter": "python",
   "pygments_lexer": "ipython3",
   "version": "3.12.3"
  }
 },
 "nbformat": 4,
 "nbformat_minor": 5
}
