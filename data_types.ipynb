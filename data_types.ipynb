{
 "cells": [
  {
   "cell_type": "markdown",
   "id": "aaa3cef5-a98d-49fe-baf8-6ee20c49af71",
   "metadata": {},
   "source": [
    "# Examples of Basic Data Types"
   ]
  },
  {
   "cell_type": "code",
   "execution_count": 1,
   "id": "7fa0e036-d444-4f11-b9f7-50b3f1717acf",
   "metadata": {},
   "outputs": [],
   "source": [
    "dna_seq = \"ATGCGA\""
   ]
  },
  {
   "cell_type": "code",
   "execution_count": 2,
   "id": "e036b806-fae5-4e7d-bd4e-a9c97ca4ce4a",
   "metadata": {},
   "outputs": [
    {
     "name": "stdout",
     "output_type": "stream",
     "text": [
      "ATGCGA\n"
     ]
    }
   ],
   "source": [
    "print(dna_seq)"
   ]
  },
  {
   "cell_type": "code",
   "execution_count": 4,
   "id": "e501fe78-2f06-4fba-af0b-893a0d846988",
   "metadata": {},
   "outputs": [
    {
     "name": "stdout",
     "output_type": "stream",
     "text": [
      "<class 'str'>\n"
     ]
    }
   ],
   "source": [
    "print(type(dna_seq))"
   ]
  },
  {
   "cell_type": "code",
   "execution_count": 5,
   "id": "2aa4b8cb-e6c7-483b-bc0b-fb1433d53bad",
   "metadata": {},
   "outputs": [],
   "source": [
    "gene_count = 1532"
   ]
  },
  {
   "cell_type": "code",
   "execution_count": 6,
   "id": "5a09d586-e730-4dc1-9fb1-6e7bf9f5a5c9",
   "metadata": {},
   "outputs": [
    {
     "name": "stdout",
     "output_type": "stream",
     "text": [
      "1532\n"
     ]
    }
   ],
   "source": [
    "print(gene_count)"
   ]
  },
  {
   "cell_type": "code",
   "execution_count": 7,
   "id": "f42172c9-eae9-4347-9e7d-1d03bf72d756",
   "metadata": {},
   "outputs": [
    {
     "name": "stdout",
     "output_type": "stream",
     "text": [
      "<class 'int'>\n"
     ]
    }
   ],
   "source": [
    "print(type(gene_count))"
   ]
  },
  {
   "cell_type": "code",
   "execution_count": 8,
   "id": "e4627565-c670-487c-81fa-3ccc6f676d44",
   "metadata": {},
   "outputs": [],
   "source": [
    "gc_content = 53.7"
   ]
  },
  {
   "cell_type": "code",
   "execution_count": 9,
   "id": "31369de0-4fac-45e4-9e46-1c95d71d1fbe",
   "metadata": {},
   "outputs": [
    {
     "name": "stdout",
     "output_type": "stream",
     "text": [
      "53.7\n"
     ]
    }
   ],
   "source": [
    "print(gc_content)"
   ]
  },
  {
   "cell_type": "code",
   "execution_count": 10,
   "id": "911c04c3-dc18-482d-9e9a-2bda7a26aedd",
   "metadata": {},
   "outputs": [
    {
     "name": "stdout",
     "output_type": "stream",
     "text": [
      "<class 'float'>\n"
     ]
    }
   ],
   "source": [
    "print(type(gc_content))"
   ]
  },
  {
   "cell_type": "code",
   "execution_count": 11,
   "id": "ca030d87-c52b-40ae-b7fa-7ca4b9bc7758",
   "metadata": {},
   "outputs": [],
   "source": [
    "is_expressed = True"
   ]
  },
  {
   "cell_type": "code",
   "execution_count": 12,
   "id": "58f9abf2-6e32-4d5a-86b4-e07ce7fde92b",
   "metadata": {},
   "outputs": [
    {
     "name": "stdout",
     "output_type": "stream",
     "text": [
      "True\n"
     ]
    }
   ],
   "source": [
    "print(is_expressed)"
   ]
  },
  {
   "cell_type": "code",
   "execution_count": 13,
   "id": "be8da75e-cdd7-4364-ace4-3cf8d25344c2",
   "metadata": {},
   "outputs": [
    {
     "name": "stdout",
     "output_type": "stream",
     "text": [
      "<class 'bool'>\n"
     ]
    }
   ],
   "source": [
    "print(type(is_expressed))"
   ]
  },
  {
   "cell_type": "markdown",
   "id": "590b7977-2972-493a-8406-f76b7e12ff62",
   "metadata": {},
   "source": [
    "# Example of mixing data types incorrectly"
   ]
  },
  {
   "cell_type": "code",
   "execution_count": 14,
   "id": "e51cc8d7-3d6d-4f06-9937-22a8a18bd213",
   "metadata": {},
   "outputs": [
    {
     "name": "stdout",
     "output_type": "stream",
     "text": [
      "ATG\n"
     ]
    }
   ],
   "source": [
    "dna = \"ATG\"\n",
    "print(dna)"
   ]
  },
  {
   "cell_type": "code",
   "execution_count": 15,
   "id": "59633d73-5afc-4cd9-b718-6949e9251984",
   "metadata": {},
   "outputs": [
    {
     "name": "stdout",
     "output_type": "stream",
     "text": [
      "5\n"
     ]
    }
   ],
   "source": [
    "count = 5\n",
    "print(count)"
   ]
  },
  {
   "cell_type": "code",
   "execution_count": 16,
   "id": "55be752e-db8f-4172-9a3f-426f25687af2",
   "metadata": {},
   "outputs": [
    {
     "ename": "TypeError",
     "evalue": "can only concatenate str (not \"int\") to str",
     "output_type": "error",
     "traceback": [
      "\u001b[31m---------------------------------------------------------------------------\u001b[39m",
      "\u001b[31mTypeError\u001b[39m                                 Traceback (most recent call last)",
      "\u001b[36mCell\u001b[39m\u001b[36m \u001b[39m\u001b[32mIn[16]\u001b[39m\u001b[32m, line 1\u001b[39m\n\u001b[32m----> \u001b[39m\u001b[32m1\u001b[39m result = \u001b[43mdna\u001b[49m\u001b[43m \u001b[49m\u001b[43m+\u001b[49m\u001b[43m \u001b[49m\u001b[43mcount\u001b[49m\n",
      "\u001b[31mTypeError\u001b[39m: can only concatenate str (not \"int\") to str"
     ]
    }
   ],
   "source": [
    "result = dna + count"
   ]
  },
  {
   "cell_type": "code",
   "execution_count": 17,
   "id": "e2b63a04-7b64-44da-9d3d-1991211da06d",
   "metadata": {},
   "outputs": [
    {
     "ename": "TypeError",
     "evalue": "can only concatenate str (not \"int\") to str",
     "output_type": "error",
     "traceback": [
      "\u001b[31m---------------------------------------------------------------------------\u001b[39m",
      "\u001b[31mTypeError\u001b[39m                                 Traceback (most recent call last)",
      "\u001b[36mCell\u001b[39m\u001b[36m \u001b[39m\u001b[32mIn[17]\u001b[39m\u001b[32m, line 3\u001b[39m\n\u001b[32m      1\u001b[39m dna = \u001b[33m\"\u001b[39m\u001b[33mATG\u001b[39m\u001b[33m\"\u001b[39m\n\u001b[32m      2\u001b[39m count = \u001b[32m5\u001b[39m\n\u001b[32m----> \u001b[39m\u001b[32m3\u001b[39m result = \u001b[43mdna\u001b[49m\u001b[43m \u001b[49m\u001b[43m+\u001b[49m\u001b[43m \u001b[49m\u001b[43mcount\u001b[49m\n\u001b[32m      4\u001b[39m \u001b[38;5;28mprint\u001b[39m(result)\n",
      "\u001b[31mTypeError\u001b[39m: can only concatenate str (not \"int\") to str"
     ]
    }
   ],
   "source": [
    "dna = \"ATG\"\n",
    "count = 5\n",
    "result = dna + count\n",
    "print(result)"
   ]
  }
 ],
 "metadata": {
  "kernelspec": {
   "display_name": "Python 3 (ipykernel)",
   "language": "python",
   "name": "python3"
  },
  "language_info": {
   "codemirror_mode": {
    "name": "ipython",
    "version": 3
   },
   "file_extension": ".py",
   "mimetype": "text/x-python",
   "name": "python",
   "nbconvert_exporter": "python",
   "pygments_lexer": "ipython3",
   "version": "3.12.3"
  }
 },
 "nbformat": 4,
 "nbformat_minor": 5
}
