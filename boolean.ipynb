{
 "cells": [
  {
   "cell_type": "markdown",
   "id": "c1436bfd-e8d0-4984-bd32-356a722e0df4",
   "metadata": {},
   "source": [
    "# Defining Booleans in Python"
   ]
  },
  {
   "cell_type": "code",
   "execution_count": 1,
   "id": "34b6908e-84e0-4877-b835-97eb863718c8",
   "metadata": {},
   "outputs": [
    {
     "name": "stdout",
     "output_type": "stream",
     "text": [
      "True\n",
      "False\n"
     ]
    }
   ],
   "source": [
    "# was the variant found?\n",
    "variant_found = True\n",
    "\n",
    "# is the sequence high quality?\n",
    "high_quality = False\n",
    "\n",
    "print(variant_found)\n",
    "print(high_quality)"
   ]
  },
  {
   "cell_type": "markdown",
   "id": "944d1196-b841-4362-bc64-ab5642a88c36",
   "metadata": {},
   "source": [
    "# Boolean Expressions in Bioinformatics"
   ]
  },
  {
   "cell_type": "code",
   "execution_count": 2,
   "id": "aa2063d1-6958-42ff-b2b5-c7c34deccc4e",
   "metadata": {},
   "outputs": [
    {
     "name": "stdout",
     "output_type": "stream",
     "text": [
      "True\n"
     ]
    }
   ],
   "source": [
    "# check if read count is above threshold\n",
    "read_count = 120\n",
    "is_high_coverage = read_count > 100\n",
    "print(is_high_coverage)"
   ]
  },
  {
   "cell_type": "code",
   "execution_count": 3,
   "id": "e28ba9e4-ae5d-49bb-925f-c941c4644cc3",
   "metadata": {},
   "outputs": [
    {
     "name": "stdout",
     "output_type": "stream",
     "text": [
      "True\n"
     ]
    }
   ],
   "source": [
    "# check if sequence length is equal to expected length\n",
    "observed_length = 1500\n",
    "expected_length = 1500\n",
    "length_match = observed_length == expected_length\n",
    "print(length_match)"
   ]
  },
  {
   "cell_type": "code",
   "execution_count": 4,
   "id": "8aa1f2a5-c246-4f32-80ac-d4f9afff5fb6",
   "metadata": {},
   "outputs": [
    {
     "name": "stdout",
     "output_type": "stream",
     "text": [
      "False\n"
     ]
    }
   ],
   "source": [
    "# was the quality above threshold?\n",
    "quality_score = 28\n",
    "passed_quality_filter = quality_score >= 30\n",
    "print(passed_quality_filter)"
   ]
  },
  {
   "cell_type": "code",
   "execution_count": 5,
   "id": "3a154c5c-58b5-4060-9c70-d1c467bb9004",
   "metadata": {},
   "outputs": [
    {
     "name": "stdout",
     "output_type": "stream",
     "text": [
      "True\n"
     ]
    }
   ],
   "source": [
    "# combine boolean conditions\n",
    "depth = 45\n",
    "quality = 35\n",
    "pass_filter = (depth > 30) and (quality > 30)\n",
    "print(pass_filter)"
   ]
  }
 ],
 "metadata": {
  "kernelspec": {
   "display_name": "Python 3 (ipykernel)",
   "language": "python",
   "name": "python3"
  },
  "language_info": {
   "codemirror_mode": {
    "name": "ipython",
    "version": 3
   },
   "file_extension": ".py",
   "mimetype": "text/x-python",
   "name": "python",
   "nbconvert_exporter": "python",
   "pygments_lexer": "ipython3",
   "version": "3.12.3"
  }
 },
 "nbformat": 4,
 "nbformat_minor": 5
}
